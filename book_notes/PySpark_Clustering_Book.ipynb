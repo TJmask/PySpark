{
 "cells": [
  {
   "cell_type": "markdown",
   "metadata": {},
   "source": [
    "# Machine Learning using PySpark"
   ]
  },
  {
   "cell_type": "markdown",
   "metadata": {},
   "source": [
    "## Clustering"
   ]
  },
  {
   "cell_type": "markdown",
   "metadata": {},
   "source": [
    "## K-means"
   ]
  },
  {
   "cell_type": "code",
   "execution_count": 1,
   "metadata": {},
   "outputs": [],
   "source": [
    "from pyspark.sql import SparkSession\n",
    "\n",
    "spark = SparkSession \\\n",
    "    .builder \\\n",
    "    .appName(\"PySpark k-means\") \\\n",
    "    .config(\"spark.some.config.option\", \"some-value\") \\\n",
    "    .getOrCreate()"
   ]
  },
  {
   "cell_type": "code",
   "execution_count": 2,
   "metadata": {},
   "outputs": [
    {
     "data": {
      "text/html": [
       "\n",
       "            <div>\n",
       "                <p><b>SparkSession - in-memory</b></p>\n",
       "                \n",
       "        <div>\n",
       "            <p><b>SparkContext</b></p>\n",
       "\n",
       "            <p><a href=\"http://192.168.7.29:4041\">Spark UI</a></p>\n",
       "\n",
       "            <dl>\n",
       "              <dt>Version</dt>\n",
       "                <dd><code>v2.4.5</code></dd>\n",
       "              <dt>Master</dt>\n",
       "                <dd><code>local[*]</code></dd>\n",
       "              <dt>AppName</dt>\n",
       "                <dd><code>PySpark k-means</code></dd>\n",
       "            </dl>\n",
       "        </div>\n",
       "        \n",
       "            </div>\n",
       "        "
      ],
      "text/plain": [
       "<pyspark.sql.session.SparkSession at 0x111848e10>"
      ]
     },
     "execution_count": 2,
     "metadata": {},
     "output_type": "execute_result"
    }
   ],
   "source": [
    "spark"
   ]
  },
  {
   "cell_type": "code",
   "execution_count": 52,
   "metadata": {},
   "outputs": [
    {
     "data": {
      "text/plain": [
       "['sepal length (cm)',\n",
       " 'sepal width (cm)',\n",
       " 'petal length (cm)',\n",
       " 'petal width (cm)',\n",
       " 'species']"
      ]
     },
     "execution_count": 52,
     "metadata": {},
     "output_type": "execute_result"
    }
   ],
   "source": [
    "## create data\n",
    "from sklearn import datasets\n",
    "import numpy as np\n",
    "iris = datasets.load_iris()\n",
    "features = iris.data\n",
    "target = iris.target.reshape(150,1)\n",
    "\n",
    "data = np.hstack((features,target))\n",
    "names  = iris.feature_names\n",
    "names.append('species')\n",
    "names"
   ]
  },
  {
   "cell_type": "code",
   "execution_count": 53,
   "metadata": {},
   "outputs": [
    {
     "name": "stdout",
     "output_type": "stream",
     "text": [
      "+-----------------+----------------+-----------------+----------------+-------+\n",
      "|sepal length (cm)|sepal width (cm)|petal length (cm)|petal width (cm)|species|\n",
      "+-----------------+----------------+-----------------+----------------+-------+\n",
      "|              5.1|             3.5|              1.4|             0.2|    0.0|\n",
      "|              4.9|             3.0|              1.4|             0.2|    0.0|\n",
      "|              4.7|             3.2|              1.3|             0.2|    0.0|\n",
      "|              4.6|             3.1|              1.5|             0.2|    0.0|\n",
      "|              5.0|             3.6|              1.4|             0.2|    0.0|\n",
      "+-----------------+----------------+-----------------+----------------+-------+\n",
      "only showing top 5 rows\n",
      "\n"
     ]
    }
   ],
   "source": [
    "data = spark.createDataFrame(data.tolist(), names)\n",
    "data.show(5)"
   ]
  },
  {
   "cell_type": "code",
   "execution_count": 54,
   "metadata": {},
   "outputs": [
    {
     "name": "stdout",
     "output_type": "stream",
     "text": [
      "root\n",
      " |-- sepal length (cm): double (nullable = true)\n",
      " |-- sepal width (cm): double (nullable = true)\n",
      " |-- petal length (cm): double (nullable = true)\n",
      " |-- petal width (cm): double (nullable = true)\n",
      " |-- species: double (nullable = true)\n",
      "\n"
     ]
    }
   ],
   "source": [
    "data.printSchema()"
   ]
  },
  {
   "cell_type": "code",
   "execution_count": 55,
   "metadata": {},
   "outputs": [
    {
     "name": "stdout",
     "output_type": "stream",
     "text": [
      "+-------+------------------+------------------+------------------+------------------+------------------+\n",
      "|summary| sepal length (cm)|  sepal width (cm)| petal length (cm)|  petal width (cm)|           species|\n",
      "+-------+------------------+------------------+------------------+------------------+------------------+\n",
      "|  count|               150|               150|               150|               150|               150|\n",
      "|   mean| 5.843333333333334|3.0573333333333337|3.7580000000000005|1.1993333333333331|               1.0|\n",
      "| stddev|0.8280661279778623|0.4358662849366982|1.7652982332594664|0.7622376689603466|0.8192319205190405|\n",
      "|    min|               4.3|               2.0|               1.0|               0.1|               0.0|\n",
      "|    max|               7.9|               4.4|               6.9|               2.5|               2.0|\n",
      "+-------+------------------+------------------+------------------+------------------+------------------+\n",
      "\n"
     ]
    }
   ],
   "source": [
    "data.describe().show()"
   ]
  },
  {
   "cell_type": "code",
   "execution_count": 69,
   "metadata": {},
   "outputs": [],
   "source": [
    "# convert the data to dense vector\n",
    "from pyspark.ml.linalg import Vectors\n",
    "def transData(data):\n",
    "    return data.rdd.map(lambda r: [Vectors.dense(r[:-1])]).toDF(['features'])"
   ]
  },
  {
   "cell_type": "code",
   "execution_count": 70,
   "metadata": {},
   "outputs": [
    {
     "name": "stdout",
     "output_type": "stream",
     "text": [
      "+-----------------+\n",
      "|features         |\n",
      "+-----------------+\n",
      "|[5.1,3.5,1.4,0.2]|\n",
      "|[4.9,3.0,1.4,0.2]|\n",
      "|[4.7,3.2,1.3,0.2]|\n",
      "|[4.6,3.1,1.5,0.2]|\n",
      "|[5.0,3.6,1.4,0.2]|\n",
      "+-----------------+\n",
      "only showing top 5 rows\n",
      "\n"
     ]
    }
   ],
   "source": [
    "transformed= transData(data)\n",
    "transformed.show(5, False)"
   ]
  },
  {
   "cell_type": "code",
   "execution_count": 73,
   "metadata": {},
   "outputs": [
    {
     "name": "stdout",
     "output_type": "stream",
     "text": [
      "+-----------------+-----------------+\n",
      "|         features|  indexedFeatures|\n",
      "+-----------------+-----------------+\n",
      "|[5.1,3.5,1.4,0.2]|[5.1,3.5,1.4,0.2]|\n",
      "|[4.9,3.0,1.4,0.2]|[4.9,3.0,1.4,0.2]|\n",
      "|[4.7,3.2,1.3,0.2]|[4.7,3.2,1.3,0.2]|\n",
      "|[4.6,3.1,1.5,0.2]|[4.6,3.1,1.5,0.2]|\n",
      "|[5.0,3.6,1.4,0.2]|[5.0,3.6,1.4,0.2]|\n",
      "+-----------------+-----------------+\n",
      "only showing top 5 rows\n",
      "\n"
     ]
    }
   ],
   "source": [
    "from pyspark.ml import Pipeline\n",
    "from pyspark.ml.regression import LinearRegression\n",
    "from pyspark.ml.feature import VectorIndexer\n",
    "from pyspark.ml.evaluation import RegressionEvaluator\n",
    "\n",
    "# Automatically identify categorical features, and index them.\n",
    "# We specify maxCategories so features with > 4 distinct values are treated as continuous.\n",
    "\n",
    "featureIndexer = VectorIndexer(inputCol=\"features\", \\\n",
    "                               outputCol=\"indexedFeatures\",\\\n",
    "                               maxCategories=4).fit(transformed)\n",
    "\n",
    "df = featureIndexer.transform(transformed)\n",
    "df.show(5)"
   ]
  },
  {
   "cell_type": "code",
   "execution_count": 74,
   "metadata": {},
   "outputs": [],
   "source": [
    "## choose the best k\n",
    "import numpy as np\n",
    "from pyspark.ml.clustering import KMeans\n",
    "cost = np.zeros(20)\n",
    "for k in range(2,20):\n",
    "    kmeans = KMeans()\\\n",
    "            .setK(k)\\\n",
    "            .setSeed(1) \\\n",
    "            .setFeaturesCol(\"indexedFeatures\")\\\n",
    "            .setPredictionCol(\"cluster\")\n",
    "\n",
    "    model = kmeans.fit(transformed)\n",
    "    cost[k] = model.computeCost(transformed)"
   ]
  },
  {
   "cell_type": "code",
   "execution_count": 75,
   "metadata": {},
   "outputs": [
    {
     "data": {
      "image/png": "[encoded data removed]",
      "text/plain": [
       "<Figure size 576x432 with 1 Axes>"
      ]
     },
     "metadata": {
      "needs_background": "light"
     },
     "output_type": "display_data"
    }
   ],
   "source": [
    "import numpy as np\n",
    "import matplotlib.mlab as mlab\n",
    "import matplotlib.pyplot as plt\n",
    "import seaborn as sbs\n",
    "from matplotlib.ticker import MaxNLocator\n",
    "\n",
    "fig, ax = plt.subplots(1,1, figsize =(8,6))\n",
    "ax.plot(range(2,20),cost[2:20])\n",
    "ax.set_xlabel('k')\n",
    "ax.set_ylabel('cost')\n",
    "ax.xaxis.set_major_locator(MaxNLocator(integer=True))\n",
    "plt.show()"
   ]
  },
  {
   "cell_type": "code",
   "execution_count": 76,
   "metadata": {},
   "outputs": [],
   "source": [
    "from pyspark.ml.clustering import KMeans, KMeansModel\n",
    "\n",
    "kmeans = KMeans() \\\n",
    "          .setK(3) \\\n",
    "          .setFeaturesCol(\"indexedFeatures\")\\\n",
    "          .setPredictionCol(\"cluster\")\n",
    "\n",
    "# Chain indexer and tree in a Pipeline\n",
    "pipeline = Pipeline(stages=[featureIndexer, kmeans])\n",
    "\n",
    "model = pipeline.fit(transformed)\n",
    "\n",
    "cluster = model.transform(transformed)"
   ]
  },
  {
   "cell_type": "code",
   "execution_count": 77,
   "metadata": {},
   "outputs": [
    {
     "name": "stdout",
     "output_type": "stream",
     "text": [
      "+-----------------+-----------------+-------+\n",
      "|         features|  indexedFeatures|cluster|\n",
      "+-----------------+-----------------+-------+\n",
      "|[5.1,3.5,1.4,0.2]|[5.1,3.5,1.4,0.2]|      2|\n",
      "|[4.9,3.0,1.4,0.2]|[4.9,3.0,1.4,0.2]|      2|\n",
      "|[4.7,3.2,1.3,0.2]|[4.7,3.2,1.3,0.2]|      2|\n",
      "|[4.6,3.1,1.5,0.2]|[4.6,3.1,1.5,0.2]|      2|\n",
      "|[5.0,3.6,1.4,0.2]|[5.0,3.6,1.4,0.2]|      2|\n",
      "|[5.4,3.9,1.7,0.4]|[5.4,3.9,1.7,0.4]|      2|\n",
      "|[4.6,3.4,1.4,0.3]|[4.6,3.4,1.4,0.3]|      2|\n",
      "|[5.0,3.4,1.5,0.2]|[5.0,3.4,1.5,0.2]|      2|\n",
      "|[4.4,2.9,1.4,0.2]|[4.4,2.9,1.4,0.2]|      2|\n",
      "|[4.9,3.1,1.5,0.1]|[4.9,3.1,1.5,0.1]|      2|\n",
      "|[5.4,3.7,1.5,0.2]|[5.4,3.7,1.5,0.2]|      2|\n",
      "|[4.8,3.4,1.6,0.2]|[4.8,3.4,1.6,0.2]|      2|\n",
      "|[4.8,3.0,1.4,0.1]|[4.8,3.0,1.4,0.1]|      2|\n",
      "|[4.3,3.0,1.1,0.1]|[4.3,3.0,1.1,0.1]|      2|\n",
      "|[5.8,4.0,1.2,0.2]|[5.8,4.0,1.2,0.2]|      2|\n",
      "|[5.7,4.4,1.5,0.4]|[5.7,4.4,1.5,0.4]|      2|\n",
      "|[5.4,3.9,1.3,0.4]|[5.4,3.9,1.3,0.4]|      2|\n",
      "|[5.1,3.5,1.4,0.3]|[5.1,3.5,1.4,0.3]|      2|\n",
      "|[5.7,3.8,1.7,0.3]|[5.7,3.8,1.7,0.3]|      2|\n",
      "|[5.1,3.8,1.5,0.3]|[5.1,3.8,1.5,0.3]|      2|\n",
      "+-----------------+-----------------+-------+\n",
      "only showing top 20 rows\n",
      "\n"
     ]
    }
   ],
   "source": [
    "cluster.show()"
   ]
  },
  {
   "cell_type": "code",
   "execution_count": 78,
   "metadata": {},
   "outputs": [],
   "source": [
    "#PySpark libraries\n",
    "from pyspark.ml import Pipeline\n",
    "from pyspark.ml.feature import StringIndexer, OneHotEncoder, VectorAssembler\n",
    "from pyspark.sql.functions import col, percent_rank, lit\n",
    "from pyspark.sql.window import Window\n",
    "from pyspark.sql import DataFrame, Row\n",
    "from pyspark.sql.types import StructType\n",
    "from functools import reduce  # For Python 3.x\n",
    "\n",
    "from pyspark.ml.clustering import KMeans\n",
    "from pyspark.ml.evaluation import ClusteringEvaluator\n",
    "\n",
    "def optimal_k(df_in,index_col,k_min, k_max,num_runs):\n",
    "    '''\n",
    "    Determine optimal number of clusters by using Silhoutte Score Analysis.\n",
    "    :param df_in: the input dataframe\n",
    "    :param index_col: the name of the index column\n",
    "    :param k_min: the train dataset\n",
    "    :param k_min: the minmum number of the clusters\n",
    "    :param k_max: the maxmum number of the clusters\n",
    "    :param num_runs: the number of runs for each fixed clusters\n",
    "\n",
    "    :return k: optimal number of the clusters\n",
    "    :return silh_lst: Silhouette score\n",
    "    :return r_table: the running results table\n",
    "\n",
    "    :author: Wenqiang Feng\n",
    "    :email:  von198@gmail.com\n",
    "    '''\n",
    "\n",
    "    start = time.time()\n",
    "    silh_lst = []\n",
    "    k_lst = np.arange(k_min, k_max+1)\n",
    "\n",
    "    r_table = df_in.select(index_col).toPandas()\n",
    "    r_table = r_table.set_index(index_col)\n",
    "    centers = pd.DataFrame()\n",
    "\n",
    "    for k in k_lst:\n",
    "        silh_val = []\n",
    "        for run in np.arange(1, num_runs+1):\n",
    "\n",
    "            # Trains a k-means model.\n",
    "            kmeans = KMeans()\\\n",
    "                    .setK(k)\\\n",
    "                    .setSeed(int(np.random.randint(100, size=1)))\n",
    "            model = kmeans.fit(df_in)\n",
    "\n",
    "            # Make predictions\n",
    "            predictions = model.transform(df_in)\n",
    "            r_table['cluster_{k}_{run}'.format(k=k, run=run)]= predictions.select('prediction').toPandas()\n",
    "\n",
    "            # Evaluate clustering by computing Silhouette score\n",
    "            evaluator = ClusteringEvaluator()\n",
    "            silhouette = evaluator.evaluate(predictions)\n",
    "            silh_val.append(silhouette)\n",
    "\n",
    "        silh_array=np.asanyarray(silh_val)\n",
    "        silh_lst.append(silh_array.mean())\n",
    "\n",
    "    elapsed =  time.time() - start\n",
    "\n",
    "    silhouette = pd.DataFrame(list(zip(k_lst,silh_lst)),columns = ['k', 'silhouette'])\n",
    "\n",
    "    print('+------------------------------------------------------------+')\n",
    "    print(\"|         The finding optimal k phase took %8.0f s.       |\" %(elapsed))\n",
    "    print('+------------------------------------------------------------+')\n",
    "\n",
    "\n",
    "    return k_lst[np.argmax(silh_lst, axis=0)], silhouette , r_table"
   ]
  },
  {
   "cell_type": "code",
   "execution_count": 79,
   "metadata": {},
   "outputs": [
    {
     "ename": "NameError",
     "evalue": "name 'scaledData' is not defined",
     "output_type": "error",
     "traceback": [
      "\u001b[0;31m---------------------------------------------------------------------------\u001b[0m",
      "\u001b[0;31mNameError\u001b[0m                                 Traceback (most recent call last)",
      "\u001b[0;32m<ipython-input-79-8e567a9b97e7>\u001b[0m in \u001b[0;36m<module>\u001b[0;34m()\u001b[0m\n\u001b[0;32m----> 1\u001b[0;31m \u001b[0mk\u001b[0m\u001b[0;34m,\u001b[0m \u001b[0msilh_lst\u001b[0m\u001b[0;34m,\u001b[0m \u001b[0mr_table\u001b[0m \u001b[0;34m=\u001b[0m \u001b[0moptimal_k\u001b[0m\u001b[0;34m(\u001b[0m\u001b[0mscaledData\u001b[0m\u001b[0;34m,\u001b[0m\u001b[0mindex_col\u001b[0m\u001b[0;34m,\u001b[0m\u001b[0mk_min\u001b[0m\u001b[0;34m,\u001b[0m \u001b[0mk_max\u001b[0m\u001b[0;34m,\u001b[0m\u001b[0mnum_runs\u001b[0m\u001b[0;34m)\u001b[0m\u001b[0;34m\u001b[0m\u001b[0;34m\u001b[0m\u001b[0m\n\u001b[0m",
      "\u001b[0;31mNameError\u001b[0m: name 'scaledData' is not defined"
     ]
    }
   ],
   "source": [
    "k, silh_lst, r_table = optimal_k(scaledData,index_col,k_min, k_max,num_runs)"
   ]
  },
  {
   "cell_type": "code",
   "execution_count": null,
   "metadata": {},
   "outputs": [],
   "source": []
  }
 ],
 "metadata": {
  "kernelspec": {
   "display_name": "Python 3",
   "language": "python",
   "name": "python3"
  },
  "language_info": {
   "codemirror_mode": {
    "name": "ipython",
    "version": 3
   },
   "file_extension": ".py",
   "mimetype": "text/x-python",
   "name": "python",
   "nbconvert_exporter": "python",
   "pygments_lexer": "ipython3",
   "version": "3.7.6"
  }
 },
 "nbformat": 4,
 "nbformat_minor": 4
}
